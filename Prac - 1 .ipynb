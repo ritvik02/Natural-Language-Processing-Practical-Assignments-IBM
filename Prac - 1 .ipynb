{
 "cells": [
  {
   "cell_type": "markdown",
   "metadata": {},
   "source": [
    "Name : Ritvik Khandelwal\n",
    "\n",
    "SAP ID : 60002180081\n",
    "\n",
    "TE-EXTC 2\n",
    "\n",
    "AIML A2"
   ]
  },
  {
   "cell_type": "code",
   "execution_count": 1,
   "metadata": {},
   "outputs": [],
   "source": [
    "import pandas as pd"
   ]
  },
  {
   "cell_type": "code",
   "execution_count": 5,
   "metadata": {},
   "outputs": [],
   "source": [
    "df = pd.read_csv(\"train_triplets_sample.txt\", nrows = 10000, sep = '\\t', names = ['user', 'song', 'play_count'])"
   ]
  },
  {
   "cell_type": "code",
   "execution_count": 6,
   "metadata": {},
   "outputs": [
    {
     "data": {
      "text/html": [
       "<div>\n",
       "<style scoped>\n",
       "    .dataframe tbody tr th:only-of-type {\n",
       "        vertical-align: middle;\n",
       "    }\n",
       "\n",
       "    .dataframe tbody tr th {\n",
       "        vertical-align: top;\n",
       "    }\n",
       "\n",
       "    .dataframe thead th {\n",
       "        text-align: right;\n",
       "    }\n",
       "</style>\n",
       "<table border=\"1\" class=\"dataframe\">\n",
       "  <thead>\n",
       "    <tr style=\"text-align: right;\">\n",
       "      <th></th>\n",
       "      <th>user</th>\n",
       "      <th>song</th>\n",
       "      <th>play_count</th>\n",
       "    </tr>\n",
       "  </thead>\n",
       "  <tbody>\n",
       "    <tr>\n",
       "      <th>0</th>\n",
       "      <td>b80344d063b5ccb3212f76538f3d9e43d87dca9e</td>\n",
       "      <td>SOAKIMP12A8C130995</td>\n",
       "      <td>1</td>\n",
       "    </tr>\n",
       "    <tr>\n",
       "      <th>1</th>\n",
       "      <td>b80344d063b5ccb3212f76538f3d9e43d87dca9e</td>\n",
       "      <td>SOAPDEY12A81C210A9</td>\n",
       "      <td>1</td>\n",
       "    </tr>\n",
       "    <tr>\n",
       "      <th>2</th>\n",
       "      <td>b80344d063b5ccb3212f76538f3d9e43d87dca9e</td>\n",
       "      <td>SOBBMDR12A8C13253B</td>\n",
       "      <td>2</td>\n",
       "    </tr>\n",
       "    <tr>\n",
       "      <th>3</th>\n",
       "      <td>b80344d063b5ccb3212f76538f3d9e43d87dca9e</td>\n",
       "      <td>SOBFNSP12AF72A0E22</td>\n",
       "      <td>1</td>\n",
       "    </tr>\n",
       "    <tr>\n",
       "      <th>4</th>\n",
       "      <td>b80344d063b5ccb3212f76538f3d9e43d87dca9e</td>\n",
       "      <td>SOBFOVM12A58A7D494</td>\n",
       "      <td>1</td>\n",
       "    </tr>\n",
       "  </tbody>\n",
       "</table>\n",
       "</div>"
      ],
      "text/plain": [
       "                                       user                song  play_count\n",
       "0  b80344d063b5ccb3212f76538f3d9e43d87dca9e  SOAKIMP12A8C130995           1\n",
       "1  b80344d063b5ccb3212f76538f3d9e43d87dca9e  SOAPDEY12A81C210A9           1\n",
       "2  b80344d063b5ccb3212f76538f3d9e43d87dca9e  SOBBMDR12A8C13253B           2\n",
       "3  b80344d063b5ccb3212f76538f3d9e43d87dca9e  SOBFNSP12AF72A0E22           1\n",
       "4  b80344d063b5ccb3212f76538f3d9e43d87dca9e  SOBFOVM12A58A7D494           1"
      ]
     },
     "execution_count": 6,
     "metadata": {},
     "output_type": "execute_result"
    }
   ],
   "source": [
    "df.head()"
   ]
  },
  {
   "cell_type": "code",
   "execution_count": 6,
   "metadata": {},
   "outputs": [
    {
     "name": "stdout",
     "output_type": "stream",
     "text": [
      "(0, 'bread')\n",
      "(1, 'milk')\n",
      "(2, 'butter')\n"
     ]
    }
   ],
   "source": [
    "# enumerate() command\n",
    "a = ['bread', 'milk', 'butter']\n",
    "for item in enumerate(a):\n",
    "    print(item)"
   ]
  },
  {
   "cell_type": "code",
   "execution_count": 9,
   "metadata": {},
   "outputs": [],
   "source": [
    "output_dict = {}\n",
    "with open(\"train_triplets_sample.txt\") as f:\n",
    "    for line_number, line in enumerate(f):\n",
    "        user = line.split()[0]\n",
    "        play_count = int(line.split()[2])\n",
    "        if user in output_dict:\n",
    "            play_count += output_dict[user]\n",
    "            output_dict.update({user:play_count})\n",
    "        output_dict.update({user:play_count})"
   ]
  },
  {
   "cell_type": "code",
   "execution_count": 10,
   "metadata": {},
   "outputs": [
    {
     "data": {
      "text/plain": [
       "{'b80344d063b5ccb3212f76538f3d9e43d87dca9e': 125,\n",
       " '85c1f87fea955d09b4bec2e36aee110927aedf9a': 38,\n",
       " 'bd4c6e843f00bd476847fb75c47b4fb430a06856': 14,\n",
       " '8937134734f869debcab8f23d77465b4caaa85df': 78,\n",
       " '969cc6fb74e076a68e36a04409cb9d3765757508': 94,\n",
       " '4bd88bfb25263a75bbdd467e74018f4ae570e5df': 95,\n",
       " 'e006b1a48f466bf59feefed32bec6494495a4436': 73,\n",
       " '9d6f0ead607ac2a6c2460e4d14fb439a146b7dec': 24,\n",
       " '9bb911319fbc04f01755814cb5edb21df3d1a336': 58,\n",
       " 'b64cdd1a0bd907e5e00b39e345194768e330d652': 164,\n",
       " '17aa9f6dbdf753831da8f38c71b66b64373de613': 208,\n",
       " 'd6589314c0a9bcbca4fee0c93b14bc402363afea': 354,\n",
       " '5a905f000fc1ff3df7ca807d57edb608863db05d': 1422,\n",
       " 'c737ec8c1b16ce8e39115f4432c9a7fc21ec47a1': 16,\n",
       " '45544491ccfcdc0b0803c34f201a6287ed4e30f8': 39,\n",
       " 'ed7d4c476013b1c3dd91982b61494bf7436083ba': 22,\n",
       " 'baf47ed8da24d607e50d8684cde78b923538640f': 413,\n",
       " '169f9f4c68b62d1887c7c0ac99d10a79cfca5daf': 34,\n",
       " 'a820d2d4f16bbd53be9e41e0417dfb234bfdfba8': 105,\n",
       " 'bd8475385f0aa78830fa6dfce9e7242164b035c8': 228,\n",
       " '0afaa5d9d04bf85af720fe8cc566a41ca3e41c97': 107,\n",
       " '81bde1c3a845c64f1677bd9d28f2da85dfefcf30': 28,\n",
       " '403b3b867fc71dfdcc12652f30e88bdc7ccd9aa4': 58,\n",
       " 'f84f5b5a5c5d1d9fb4866f6488e0d2661b54c192': 128,\n",
       " 'a1380d458c15706b9d5282304db81a5a78352e96': 120,\n",
       " '405d396ea64d75b5eaefaaf8ac836f45fa56af4d': 134,\n",
       " '2c42e6551311710ca5a839d62058820a42ead493': 135,\n",
       " '8deca80c3da6024a1456e123308eb94fee1b439f': 12,\n",
       " 'bf30441e24ef5326354295723d9fe1edf59b8554': 18,\n",
       " '12768858f6a825452e412deb1df36d2d1d9c6791': 41,\n",
       " 'a58de017cbeda1763ea002fe027ed41b4ed53109': 606,\n",
       " '951945330eb5df161ac4f97729647514001cd102': 80}"
      ]
     },
     "execution_count": 10,
     "metadata": {},
     "output_type": "execute_result"
    }
   ],
   "source": [
    "output_dict"
   ]
  },
  {
   "cell_type": "code",
   "execution_count": 9,
   "metadata": {},
   "outputs": [],
   "source": [
    "df_1 = pd.DataFrame(output_dict,['play_count'])\n",
    "df_1 = df_1.T.reset_index()\n",
    "df_1.rename(columns = {\"index\":\"User\", \"play_count\":\"Play_Count\"}, inplace = True)\n",
    "df_1.to_csv(\"user_playcount_df.csv\")"
   ]
  },
  {
   "cell_type": "code",
   "execution_count": 11,
   "metadata": {},
   "outputs": [],
   "source": [
    "output_dict = {}\n",
    "with open(\"train_triplets_sample .txt\") as f:\n",
    "    for line_number, line in enumerate(f):\n",
    "        song = line.split()[1]\n",
    "        play_count = int(line.split()[2])\n",
    "        if song in output_dict:\n",
    "            play_count += output_dict[song]\n",
    "            output_dict.update({song:play_count})\n",
    "        output_dict.update({song:play_count})"
   ]
  },
  {
   "cell_type": "code",
   "execution_count": 12,
   "metadata": {},
   "outputs": [],
   "source": [
    "df_1 = pd.DataFrame(output_dict,['play_count'])\n",
    "df_1 = df_1.T.reset_index()\n",
    "df_1.rename(columns = {\"index\":\"Song\", \"play_count\":\"Play_Count\"}, inplace = True)\n",
    "df_1.to_csv(\"song_playcount_df.csv\")"
   ]
  },
  {
   "cell_type": "code",
   "execution_count": 13,
   "metadata": {},
   "outputs": [],
   "source": [
    "import nltk"
   ]
  },
  {
   "cell_type": "code",
   "execution_count": 14,
   "metadata": {},
   "outputs": [],
   "source": [
    "paragraph = \"\"\"I have three visions for India. In 3000 years of our history, people from all over\n",
    "               the world have come and invaded us, captured our lands, conquered our minds.\n",
    "               From Alexander onwards, the Greeks, the Turks, the Moguls, the Portuguese, the British,\n",
    "               the French, the Dutch, all of them came and looted us, took over what was ours.\n",
    "               Yet we have not done this to any other nation. We have not conquered anyone.\n",
    "               We have not grabbed their land, their culture,\n",
    "               their history and tried to enforce our way of life on them.\n",
    "               Why? Because we respect the freedom of others.That is why my\n",
    "               first vision is that of freedom. I believe that India got its first vision of\n",
    "               this in 1857, when we started the War of Independence.\"\"\""
   ]
  },
  {
   "cell_type": "code",
   "execution_count": 15,
   "metadata": {},
   "outputs": [
    {
     "name": "stdout",
     "output_type": "stream",
     "text": [
      "['I have three visions for India.', 'In 3000 years of our history, people from all over\\n               the world have come and invaded us, captured our lands, conquered our minds.', 'From Alexander onwards, the Greeks, the Turks, the Moguls, the Portuguese, the British,\\n               the French, the Dutch, all of them came and looted us, took over what was ours.', 'Yet we have not done this to any other nation.', 'We have not conquered anyone.', 'We have not grabbed their land, their culture,\\n               their history and tried to enforce our way of life on them.', 'Why?', 'Because we respect the freedom of others.That is why my\\n               first vision is that of freedom.', 'I believe that India got its first vision of\\n               this in 1857, when we started the War of Independence.']\n"
     ]
    },
    {
     "data": {
      "text/plain": [
       "9"
      ]
     },
     "execution_count": 15,
     "metadata": {},
     "output_type": "execute_result"
    }
   ],
   "source": [
    "# Sentence Tokenization\n",
    "sentences = nltk.sent_tokenize(paragraph)\n",
    "print(sentences)\n",
    "len(sentences)"
   ]
  },
  {
   "cell_type": "code",
   "execution_count": 16,
   "metadata": {},
   "outputs": [
    {
     "name": "stdout",
     "output_type": "stream",
     "text": [
      "['I', 'have', 'three', 'visions', 'for', 'India', '.', 'In', '3000', 'years', 'of', 'our', 'history', ',', 'people', 'from', 'all', 'over', 'the', 'world', 'have', 'come', 'and', 'invaded', 'us', ',', 'captured', 'our', 'lands', ',', 'conquered', 'our', 'minds', '.', 'From', 'Alexander', 'onwards', ',', 'the', 'Greeks', ',', 'the', 'Turks', ',', 'the', 'Moguls', ',', 'the', 'Portuguese', ',', 'the', 'British', ',', 'the', 'French', ',', 'the', 'Dutch', ',', 'all', 'of', 'them', 'came', 'and', 'looted', 'us', ',', 'took', 'over', 'what', 'was', 'ours', '.', 'Yet', 'we', 'have', 'not', 'done', 'this', 'to', 'any', 'other', 'nation', '.', 'We', 'have', 'not', 'conquered', 'anyone', '.', 'We', 'have', 'not', 'grabbed', 'their', 'land', ',', 'their', 'culture', ',', 'their', 'history', 'and', 'tried', 'to', 'enforce', 'our', 'way', 'of', 'life', 'on', 'them', '.', 'Why', '?', 'Because', 'we', 'respect', 'the', 'freedom', 'of', 'others.That', 'is', 'why', 'my', 'first', 'vision', 'is', 'that', 'of', 'freedom', '.', 'I', 'believe', 'that', 'India', 'got', 'its', 'first', 'vision', 'of', 'this', 'in', '1857', ',', 'when', 'we', 'started', 'the', 'War', 'of', 'Independence', '.']\n"
     ]
    },
    {
     "data": {
      "text/plain": [
       "153"
      ]
     },
     "execution_count": 16,
     "metadata": {},
     "output_type": "execute_result"
    }
   ],
   "source": [
    "# Word Tokenization\n",
    "w_token = nltk.word_tokenize(paragraph)\n",
    "print(w_token)\n",
    "len(w_token)"
   ]
  },
  {
   "cell_type": "code",
   "execution_count": 17,
   "metadata": {},
   "outputs": [
    {
     "name": "stdout",
     "output_type": "stream",
     "text": [
      "{'I': 2, 'have': 5, 'three': 1, 'visions': 1, 'for': 1, 'India': 2, '.': 8, 'In': 1, '3000': 1, 'years': 1, 'of': 7, 'our': 4, 'history': 2, ',': 15, 'people': 1, 'from': 1, 'all': 2, 'over': 2, 'the': 10, 'world': 1, 'come': 1, 'and': 3, 'invaded': 1, 'us': 2, 'captured': 1, 'lands': 1, 'conquered': 2, 'minds': 1, 'From': 1, 'Alexander': 1, 'onwards': 1, 'Greeks': 1, 'Turks': 1, 'Moguls': 1, 'Portuguese': 1, 'British': 1, 'French': 1, 'Dutch': 1, 'them': 2, 'came': 1, 'looted': 1, 'took': 1, 'what': 1, 'was': 1, 'ours': 1, 'Yet': 1, 'we': 3, 'not': 3, 'done': 1, 'this': 2, 'to': 2, 'any': 1, 'other': 1, 'nation': 1, 'We': 2, 'anyone': 1, 'grabbed': 1, 'their': 3, 'land': 1, 'culture': 1, 'tried': 1, 'enforce': 1, 'way': 1, 'life': 1, 'on': 1, 'Why': 1, '?': 1, 'Because': 1, 'respect': 1, 'freedom': 2, 'others.That': 1, 'is': 2, 'why': 1, 'my': 1, 'first': 2, 'vision': 2, 'that': 2, 'believe': 1, 'got': 1, 'its': 1, 'in': 1, '1857': 1, 'when': 1, 'started': 1, 'War': 1, 'Independence': 1}\n"
     ]
    }
   ],
   "source": [
    "word2count = {}\n",
    "for word in w_token:\n",
    "    if word not in word2count.keys():\n",
    "        word2count[word] = 1\n",
    "    else:\n",
    "        word2count[word] += 1\n",
    "print(word2count)"
   ]
  },
  {
   "cell_type": "code",
   "execution_count": 18,
   "metadata": {},
   "outputs": [
    {
     "data": {
      "text/plain": [
       "FreqDist({',': 15, 'the': 10, '.': 8, 'of': 7, 'have': 5, 'our': 4, 'and': 3, 'we': 3, 'not': 3, 'their': 3, ...})"
      ]
     },
     "execution_count": 18,
     "metadata": {},
     "output_type": "execute_result"
    }
   ],
   "source": [
    "from nltk.probability import FreqDist\n",
    "fdist = FreqDist(word2count)\n",
    "fdist"
   ]
  },
  {
   "cell_type": "code",
   "execution_count": 19,
   "metadata": {},
   "outputs": [
    {
     "data": {
      "text/plain": [
       "[(',', 15),\n",
       " ('the', 10),\n",
       " ('.', 8),\n",
       " ('of', 7),\n",
       " ('have', 5),\n",
       " ('our', 4),\n",
       " ('and', 3),\n",
       " ('we', 3),\n",
       " ('not', 3),\n",
       " ('their', 3)]"
      ]
     },
     "execution_count": 19,
     "metadata": {},
     "output_type": "execute_result"
    }
   ],
   "source": [
    "fdist.most_common(10)"
   ]
  },
  {
   "cell_type": "code",
   "execution_count": 20,
   "metadata": {},
   "outputs": [],
   "source": [
    "import matplotlib.pyplot as plt"
   ]
  },
  {
   "cell_type": "code",
   "execution_count": 21,
   "metadata": {},
   "outputs": [
    {
     "data": {
      "image/png": "[encoded data removed]",
      "text/plain": [
       "<Figure size 432x288 with 1 Axes>"
      ]
     },
     "metadata": {
      "needs_background": "light"
     },
     "output_type": "display_data"
    },
    {
     "data": {
      "text/plain": [
       "<matplotlib.axes._subplots.AxesSubplot at 0x2a8a52297f0>"
      ]
     },
     "execution_count": 21,
     "metadata": {},
     "output_type": "execute_result"
    }
   ],
   "source": [
    "fdist.plot(10)"
   ]
  },
  {
   "cell_type": "code",
   "execution_count": 22,
   "metadata": {},
   "outputs": [
    {
     "name": "stdout",
     "output_type": "stream",
     "text": [
      "['I', 'have', 'three', 'visions', 'for', 'India', 'In', 'years', 'of', 'our', 'history', 'people', 'from', 'all', 'over', 'the', 'world', 'have', 'come', 'and', 'invaded', 'us', 'captured', 'our', 'lands', 'conquered', 'our', 'minds', 'From', 'Alexander', 'onwards', 'the', 'Greeks', 'the', 'Turks', 'the', 'Moguls', 'the', 'Portuguese', 'the', 'British', 'the', 'French', 'the', 'Dutch', 'all', 'of', 'them', 'came', 'and', 'looted', 'us', 'took', 'over', 'what', 'was', 'ours', 'Yet', 'we', 'have', 'not', 'done', 'this', 'to', 'any', 'other', 'nation', 'We', 'have', 'not', 'conquered', 'anyone', 'We', 'have', 'not', 'grabbed', 'their', 'land', 'their', 'culture', 'their', 'history', 'and', 'tried', 'to', 'enforce', 'our', 'way', 'of', 'life', 'on', 'them', 'Why', 'Because', 'we', 'respect', 'the', 'freedom', 'of', 'is', 'why', 'my', 'first', 'vision', 'is', 'that', 'of', 'freedom', 'I', 'believe', 'that', 'India', 'got', 'its', 'first', 'vision', 'of', 'this', 'in', 'when', 'we', 'started', 'the', 'War', 'of', 'Independence']\n"
     ]
    },
    {
     "data": {
      "text/plain": [
       "126"
      ]
     },
     "execution_count": 22,
     "metadata": {},
     "output_type": "execute_result"
    }
   ],
   "source": [
    "words_no_punc = []\n",
    "for w in w_token:\n",
    "    if w.isalpha():\n",
    "        words_no_punc.append(w)\n",
    "print(words_no_punc)\n",
    "len(words_no_punc)"
   ]
  }
 ],
 "metadata": {
  "kernelspec": {
   "display_name": "Python 3",
   "language": "python",
   "name": "python3"
  },
  "language_info": {
   "codemirror_mode": {
    "name": "ipython",
    "version": 3
   },
   "file_extension": ".py",
   "mimetype": "text/x-python",
   "name": "python",
   "nbconvert_exporter": "python",
   "pygments_lexer": "ipython3",
   "version": "3.7.6"
  }
 },
 "nbformat": 4,
 "nbformat_minor": 4
}
