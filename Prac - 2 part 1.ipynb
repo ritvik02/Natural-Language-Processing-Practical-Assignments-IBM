{
 "cells": [
  {
   "cell_type": "code",
   "execution_count": 1,
   "metadata": {},
   "outputs": [],
   "source": [
    "import nltk\n",
    "paragraph = \"\"\"I have three visions for India. In 3000 years of our history, people from all over\n",
    "the world have come and invaded us, captured our lands, conquered our minds.\n",
    "From Alexander onwards, the Greeks, the Turks, the Moguls, the Portuguese, the British,\n",
    "the French, the Dutch, all of them came and looted us, took over what was ours.\n",
    "Yet we have not done this to any other nation. We have not conquered anyone.\n",
    "We have not grabbed their land, their culture,\n",
    "their history and tried to enforce our way of life on them.\n",
    "Why? Because we respect the freedom of others.That is why my\n",
    "first vision is that of freedom. I believe that India got its first vision of\n",
    "this in 1857, when we started the War of Independence.\"\"\""
   ]
  },
  {
   "cell_type": "code",
   "execution_count": 2,
   "metadata": {},
   "outputs": [
    {
     "name": "stdout",
     "output_type": "stream",
     "text": [
      "['I have three visions for India.', 'In 3000 years of our history, people from all over\\nthe world have come and invaded us, captured our lands, conquered our minds.', 'From Alexander onwards, the Greeks, the Turks, the Moguls, the Portuguese, the British,\\nthe French, the Dutch, all of them came and looted us, took over what was ours.', 'Yet we have not done this to any other nation.', 'We have not conquered anyone.', 'We have not grabbed their land, their culture,\\ntheir history and tried to enforce our way of life on them.', 'Why?', 'Because we respect the freedom of others.That is why my\\nfirst vision is that of freedom.', 'I believe that India got its first vision of\\nthis in 1857, when we started the War of Independence.']\n"
     ]
    },
    {
     "data": {
      "text/plain": [
       "9"
      ]
     },
     "execution_count": 2,
     "metadata": {},
     "output_type": "execute_result"
    }
   ],
   "source": [
    "#sentence tokenisation\n",
    "sentences = nltk.sent_tokenize(paragraph)\n",
    "print(sentences)\n",
    "len(sentences)"
   ]
  },
  {
   "cell_type": "code",
   "execution_count": null,
   "metadata": {},
   "outputs": [],
   "source": [
    "# preprocessing"
   ]
  },
  {
   "cell_type": "code",
   "execution_count": 3,
   "metadata": {},
   "outputs": [
    {
     "name": "stdout",
     "output_type": "stream",
     "text": [
      "['I', 'have', 'three', 'visions', 'for', 'India', '.', 'In', '3000', 'years', 'of', 'our', 'history', ',', 'people', 'from', 'all', 'over', 'the', 'world', 'have', 'come', 'and', 'invaded', 'us', ',', 'captured', 'our', 'lands', ',', 'conquered', 'our', 'minds', '.', 'From', 'Alexander', 'onwards', ',', 'the', 'Greeks', ',', 'the', 'Turks', ',', 'the', 'Moguls', ',', 'the', 'Portuguese', ',', 'the', 'British', ',', 'the', 'French', ',', 'the', 'Dutch', ',', 'all', 'of', 'them', 'came', 'and', 'looted', 'us', ',', 'took', 'over', 'what', 'was', 'ours', '.', 'Yet', 'we', 'have', 'not', 'done', 'this', 'to', 'any', 'other', 'nation', '.', 'We', 'have', 'not', 'conquered', 'anyone', '.', 'We', 'have', 'not', 'grabbed', 'their', 'land', ',', 'their', 'culture', ',', 'their', 'history', 'and', 'tried', 'to', 'enforce', 'our', 'way', 'of', 'life', 'on', 'them', '.', 'Why', '?', 'Because', 'we', 'respect', 'the', 'freedom', 'of', 'others.That', 'is', 'why', 'my', 'first', 'vision', 'is', 'that', 'of', 'freedom', '.', 'I', 'believe', 'that', 'India', 'got', 'its', 'first', 'vision', 'of', 'this', 'in', '1857', ',', 'when', 'we', 'started', 'the', 'War', 'of', 'Independence', '.']\n"
     ]
    },
    {
     "data": {
      "text/plain": [
       "153"
      ]
     },
     "execution_count": 3,
     "metadata": {},
     "output_type": "execute_result"
    }
   ],
   "source": [
    "#word tokenisation\n",
    "w_token = nltk.word_tokenize(paragraph)\n",
    "print(w_token)\n",
    "len(w_token)"
   ]
  },
  {
   "cell_type": "code",
   "execution_count": 4,
   "metadata": {},
   "outputs": [
    {
     "name": "stdout",
     "output_type": "stream",
     "text": [
      "['I', 'have', 'three', 'visions', 'for', 'India', 'In', 'years', 'of', 'our', 'history', 'people', 'from', 'all', 'over', 'the', 'world', 'have', 'come', 'and', 'invaded', 'us', 'captured', 'our', 'lands', 'conquered', 'our', 'minds', 'From', 'Alexander', 'onwards', 'the', 'Greeks', 'the', 'Turks', 'the', 'Moguls', 'the', 'Portuguese', 'the', 'British', 'the', 'French', 'the', 'Dutch', 'all', 'of', 'them', 'came', 'and', 'looted', 'us', 'took', 'over', 'what', 'was', 'ours', 'Yet', 'we', 'have', 'not', 'done', 'this', 'to', 'any', 'other', 'nation', 'We', 'have', 'not', 'conquered', 'anyone', 'We', 'have', 'not', 'grabbed', 'their', 'land', 'their', 'culture', 'their', 'history', 'and', 'tried', 'to', 'enforce', 'our', 'way', 'of', 'life', 'on', 'them', 'Why', 'Because', 'we', 'respect', 'the', 'freedom', 'of', 'is', 'why', 'my', 'first', 'vision', 'is', 'that', 'of', 'freedom', 'I', 'believe', 'that', 'India', 'got', 'its', 'first', 'vision', 'of', 'this', 'in', 'when', 'we', 'started', 'the', 'War', 'of', 'Independence']\n"
     ]
    },
    {
     "data": {
      "text/plain": [
       "126"
      ]
     },
     "execution_count": 4,
     "metadata": {},
     "output_type": "execute_result"
    }
   ],
   "source": [
    "words_no_punc = []\n",
    "for w in w_token:\n",
    "    if w.isalpha():\n",
    "        words_no_punc.append(w)\n",
    "print(words_no_punc)\n",
    "len(words_no_punc)"
   ]
  },
  {
   "cell_type": "markdown",
   "metadata": {},
   "source": [
    "## Removing Stopwords"
   ]
  },
  {
   "cell_type": "code",
   "execution_count": 5,
   "metadata": {},
   "outputs": [
    {
     "name": "stdout",
     "output_type": "stream",
     "text": [
      "['i', 'me', 'my', 'myself', 'we', 'our', 'ours', 'ourselves', 'you', \"you're\", \"you've\", \"you'll\", \"you'd\", 'your', 'yours', 'yourself', 'yourselves', 'he', 'him', 'his', 'himself', 'she', \"she's\", 'her', 'hers', 'herself', 'it', \"it's\", 'its', 'itself', 'they', 'them', 'their', 'theirs', 'themselves', 'what', 'which', 'who', 'whom', 'this', 'that', \"that'll\", 'these', 'those', 'am', 'is', 'are', 'was', 'were', 'be', 'been', 'being', 'have', 'has', 'had', 'having', 'do', 'does', 'did', 'doing', 'a', 'an', 'the', 'and', 'but', 'if', 'or', 'because', 'as', 'until', 'while', 'of', 'at', 'by', 'for', 'with', 'about', 'against', 'between', 'into', 'through', 'during', 'before', 'after', 'above', 'below', 'to', 'from', 'up', 'down', 'in', 'out', 'on', 'off', 'over', 'under', 'again', 'further', 'then', 'once', 'here', 'there', 'when', 'where', 'why', 'how', 'all', 'any', 'both', 'each', 'few', 'more', 'most', 'other', 'some', 'such', 'no', 'nor', 'not', 'only', 'own', 'same', 'so', 'than', 'too', 'very', 's', 't', 'can', 'will', 'just', 'don', \"don't\", 'should', \"should've\", 'now', 'd', 'll', 'm', 'o', 're', 've', 'y', 'ain', 'aren', \"aren't\", 'couldn', \"couldn't\", 'didn', \"didn't\", 'doesn', \"doesn't\", 'hadn', \"hadn't\", 'hasn', \"hasn't\", 'haven', \"haven't\", 'isn', \"isn't\", 'ma', 'mightn', \"mightn't\", 'mustn', \"mustn't\", 'needn', \"needn't\", 'shan', \"shan't\", 'shouldn', \"shouldn't\", 'wasn', \"wasn't\", 'weren', \"weren't\", 'won', \"won't\", 'wouldn', \"wouldn't\"]\n"
     ]
    }
   ],
   "source": [
    "from nltk.corpus import stopwords\n",
    "stopwords = stopwords.words('english')\n",
    "print(stopwords)"
   ]
  },
  {
   "cell_type": "code",
   "execution_count": 6,
   "metadata": {},
   "outputs": [
    {
     "data": {
      "text/plain": [
       "['I',\n",
       " 'three',\n",
       " 'visions',\n",
       " 'India',\n",
       " 'In',\n",
       " 'years',\n",
       " 'history',\n",
       " 'people',\n",
       " 'world',\n",
       " 'come',\n",
       " 'invaded',\n",
       " 'us',\n",
       " 'captured',\n",
       " 'lands',\n",
       " 'conquered',\n",
       " 'minds',\n",
       " 'From',\n",
       " 'Alexander',\n",
       " 'onwards',\n",
       " 'Greeks',\n",
       " 'Turks',\n",
       " 'Moguls',\n",
       " 'Portuguese',\n",
       " 'British',\n",
       " 'French',\n",
       " 'Dutch',\n",
       " 'came',\n",
       " 'looted',\n",
       " 'us',\n",
       " 'took',\n",
       " 'Yet',\n",
       " 'done',\n",
       " 'nation',\n",
       " 'We',\n",
       " 'conquered',\n",
       " 'anyone',\n",
       " 'We',\n",
       " 'grabbed',\n",
       " 'land',\n",
       " 'culture',\n",
       " 'history',\n",
       " 'tried',\n",
       " 'enforce',\n",
       " 'way',\n",
       " 'life',\n",
       " 'Why',\n",
       " 'Because',\n",
       " 'respect',\n",
       " 'freedom',\n",
       " 'first',\n",
       " 'vision',\n",
       " 'freedom',\n",
       " 'I',\n",
       " 'believe',\n",
       " 'India',\n",
       " 'got',\n",
       " 'first',\n",
       " 'vision',\n",
       " 'started',\n",
       " 'War',\n",
       " 'Independence']"
      ]
     },
     "execution_count": 6,
     "metadata": {},
     "output_type": "execute_result"
    }
   ],
   "source": [
    "clean_words=[]\n",
    "for w in words_no_punc:\n",
    "    if w not in stopwords:\n",
    "        clean_words.append(w)\n",
    "clean_words "
   ]
  },
  {
   "cell_type": "code",
   "execution_count": 7,
   "metadata": {},
   "outputs": [
    {
     "name": "stdout",
     "output_type": "stream",
     "text": [
      "showing info https://raw.githubusercontent.com/nltk/nltk_data/gh-pages/index.xml\n"
     ]
    },
    {
     "data": {
      "text/plain": [
       "True"
      ]
     },
     "execution_count": 7,
     "metadata": {},
     "output_type": "execute_result"
    }
   ],
   "source": [
    "nltk.download()"
   ]
  },
  {
   "cell_type": "code",
   "execution_count": 9,
   "metadata": {},
   "outputs": [
    {
     "name": "stdout",
     "output_type": "stream",
     "text": [
      "studi\n",
      "studi\n",
      "studi\n",
      "studi\n"
     ]
    }
   ],
   "source": [
    "#Stemming and Lemmatization\n",
    "from nltk.stem import PorterStemmer\n",
    "porter = PorterStemmer()\n",
    "word_list=[\"study\",\"studying\",\"studies\",\"studied\"]\n",
    "for w in word_list:\n",
    "    print(porter.stem(w))"
   ]
  },
  {
   "cell_type": "code",
   "execution_count": 10,
   "metadata": {},
   "outputs": [
    {
     "name": "stdout",
     "output_type": "stream",
     "text": [
      "leav\n",
      "compress\n",
      "studi\n",
      "play\n"
     ]
    }
   ],
   "source": [
    "from nltk.stem import PorterStemmer\n",
    "porter = PorterStemmer()\n",
    "word_list=[\"leaves\",\"compresses\",\"studies\",\"plays\"]\n",
    "for w in word_list:\n",
    "    print(porter.stem(w))"
   ]
  },
  {
   "cell_type": "code",
   "execution_count": 11,
   "metadata": {},
   "outputs": [
    {
     "name": "stdout",
     "output_type": "stream",
     "text": [
      "go\n",
      "go\n",
      "goe\n",
      "gone\n"
     ]
    }
   ],
   "source": [
    "word_list=[\"go\",\"going\",\"goes\",\"gone\"]\n",
    "for w in word_list:\n",
    "    print(porter.stem(w))"
   ]
  },
  {
   "cell_type": "markdown",
   "metadata": {},
   "source": [
    "## Lemmatization"
   ]
  },
  {
   "cell_type": "code",
   "execution_count": 12,
   "metadata": {},
   "outputs": [
    {
     "name": "stdout",
     "output_type": "stream",
     "text": [
      "leaf\n"
     ]
    }
   ],
   "source": [
    "from nltk.stem import WordNetLemmatizer\n",
    "lemma = WordNetLemmatizer()\n",
    "print(lemma.lemmatize(\"leaves\"))"
   ]
  },
  {
   "cell_type": "code",
   "execution_count": null,
   "metadata": {},
   "outputs": [],
   "source": [
    "#lemmatisation takes into account the parts of speech like verb,noun,etc"
   ]
  },
  {
   "cell_type": "code",
   "execution_count": 13,
   "metadata": {},
   "outputs": [
    {
     "name": "stdout",
     "output_type": "stream",
     "text": [
      "leave\n"
     ]
    }
   ],
   "source": [
    "print(lemma.lemmatize(\"leaves\",pos=\"v\"))# by using pos parameter we are telling it to consider the leaves word as verb"
   ]
  },
  {
   "cell_type": "code",
   "execution_count": 14,
   "metadata": {},
   "outputs": [
    {
     "name": "stdout",
     "output_type": "stream",
     "text": [
      "study\n",
      "studying\n",
      "study\n",
      "studied\n"
     ]
    }
   ],
   "source": [
    "word_list=[\"study\",\"studying\",\"studies\",\"studied\"]\n",
    "for w in word_list:\n",
    "    print(lemma.lemmatize(w)) "
   ]
  },
  {
   "cell_type": "code",
   "execution_count": 15,
   "metadata": {},
   "outputs": [],
   "source": [
    "#feature extraction (BOW, TFIDF, word2vec)\n"
   ]
  },
  {
   "cell_type": "code",
   "execution_count": 16,
   "metadata": {},
   "outputs": [
    {
     "name": "stdout",
     "output_type": "stream",
     "text": [
      "['Jim', 'and', 'Pam', 'travelled', 'by', 'the', 'bus', '.', 'The', 'train', 'was', 'late', '.', 'The', 'filght', 'was', 'full', 'Travelling', 'by', 'flight', 'is', 'expensive']\n"
     ]
    },
    {
     "data": {
      "text/plain": [
       "22"
      ]
     },
     "execution_count": 16,
     "metadata": {},
     "output_type": "execute_result"
    }
   ],
   "source": [
    "b=\"\"\"Jim and Pam travelled by the bus . The train was late. The filght was full Travelling by flight is expensive\"\"\"\n",
    "w_token = nltk.word_tokenize(b)\n",
    "print(w_token)\n",
    "len(w_token)"
   ]
  },
  {
   "cell_type": "code",
   "execution_count": 17,
   "metadata": {},
   "outputs": [
    {
     "name": "stdout",
     "output_type": "stream",
     "text": [
      "{'Jim': 1, 'and': 1, 'Pam': 1, 'travelled': 1, 'by': 2, 'the': 1, 'bus': 1, '.': 2, 'The': 2, 'train': 1, 'was': 2, 'late': 1, 'filght': 1, 'full': 1, 'Travelling': 1, 'flight': 1, 'is': 1, 'expensive': 1}\n"
     ]
    },
    {
     "data": {
      "text/plain": [
       "18"
      ]
     },
     "execution_count": 17,
     "metadata": {},
     "output_type": "execute_result"
    }
   ],
   "source": [
    "wordfreq={}\n",
    "b=nltk.sent_tokenize(b)\n",
    "for sentence in b:\n",
    "    tokens = nltk.word_tokenize(sentence)\n",
    "    for token in tokens:\n",
    "        if token not in wordfreq:\n",
    "            wordfreq[token]=1\n",
    "        else:\n",
    "            wordfreq[token]+=1\n",
    "print(wordfreq)\n",
    "len(wordfreq)            "
   ]
  },
  {
   "cell_type": "code",
   "execution_count": 18,
   "metadata": {},
   "outputs": [
    {
     "data": {
      "text/plain": [
       "FreqDist({'by': 2, '.': 2, 'The': 2, 'was': 2, 'Jim': 1, 'and': 1, 'Pam': 1, 'travelled': 1, 'the': 1, 'bus': 1, ...})"
      ]
     },
     "execution_count": 18,
     "metadata": {},
     "output_type": "execute_result"
    }
   ],
   "source": [
    "from nltk.probability import FreqDist\n",
    "fdist = FreqDist(wordfreq)\n",
    "fdist"
   ]
  },
  {
   "cell_type": "code",
   "execution_count": 19,
   "metadata": {},
   "outputs": [
    {
     "data": {
      "image/png": "[encoded data removed]",
      "text/plain": [
       "<Figure size 432x288 with 1 Axes>"
      ]
     },
     "metadata": {
      "needs_background": "light"
     },
     "output_type": "display_data"
    },
    {
     "data": {
      "text/plain": [
       "<AxesSubplot:xlabel='Samples', ylabel='Counts'>"
      ]
     },
     "execution_count": 19,
     "metadata": {},
     "output_type": "execute_result"
    }
   ],
   "source": [
    "import matplotlib.pyplot as plt\n",
    "fdist.plot(10)"
   ]
  },
  {
   "cell_type": "code",
   "execution_count": 20,
   "metadata": {},
   "outputs": [],
   "source": [
    "#now we shall convert words to numerical form"
   ]
  },
  {
   "cell_type": "code",
   "execution_count": 21,
   "metadata": {},
   "outputs": [
    {
     "name": "stdout",
     "output_type": "stream",
     "text": [
      "['by', '.', 'The', 'was', 'Jim', 'and', 'Pam', 'travelled', 'the', 'bus', 'train', 'late', 'filght', 'full', 'Travelling', 'flight', 'is', 'expensive']\n"
     ]
    },
    {
     "data": {
      "text/plain": [
       "[[1, 1, 0, 0, 1, 1, 1, 1, 1, 1, 0, 0, 0, 0, 0, 0, 0, 0],\n",
       " [0, 1, 1, 1, 0, 0, 0, 0, 0, 0, 1, 1, 0, 0, 0, 0, 0, 0],\n",
       " [1, 0, 1, 1, 0, 0, 0, 0, 0, 0, 0, 0, 1, 1, 1, 1, 1, 1]]"
      ]
     },
     "execution_count": 21,
     "metadata": {},
     "output_type": "execute_result"
    }
   ],
   "source": [
    "import heapq #data structure to implement priority queue\n",
    "most_freq=heapq.nlargest(18,wordfreq,key=wordfreq.get) #top 18 frequent features\n",
    "print(most_freq)\n",
    "sentence_vectors=[]\n",
    "for sentence in b:\n",
    "    sentence_tokens = nltk.word_tokenize(sentence)\n",
    "    sent_vec=[]\n",
    "    for token in most_freq:\n",
    "        if token in sentence_tokens:\n",
    "            sent_vec.append(1) \n",
    "        else:\n",
    "            sent_vec.append(0)\n",
    "    sentence_vectors.append(sent_vec)\n",
    "sentence_vectors       \n",
    "#explanation of output there in prac 2 45th minute"
   ]
  },
  {
   "cell_type": "code",
   "execution_count": 22,
   "metadata": {},
   "outputs": [
    {
     "data": {
      "text/plain": [
       "['Jim and Pam travelled by the bus .',\n",
       " 'The train was late.',\n",
       " 'The filght was full Travelling by flight is expensive']"
      ]
     },
     "execution_count": 22,
     "metadata": {},
     "output_type": "execute_result"
    }
   ],
   "source": [
    "b"
   ]
  },
  {
   "cell_type": "code",
   "execution_count": 23,
   "metadata": {},
   "outputs": [
    {
     "name": "stdout",
     "output_type": "stream",
     "text": [
      "['and', 'bus', 'by', 'expensive', 'flight', 'full', 'is', 'jim', 'the', 'was']\n"
     ]
    }
   ],
   "source": [
    "#BOW Model\n",
    "a=[\"Jim and Pam travelled by the bus:\",\n",
    "\"The train was late\",\n",
    "\"The flight was full.Travelling by flight is expensive\"]\n",
    "from sklearn.feature_extraction.text import CountVectorizer\n",
    "cv = CountVectorizer(max_features=10)\n",
    "B_O_W = cv.fit_transform(a).toarray()\n",
    "\n",
    "print(cv.get_feature_names())"
   ]
  },
  {
   "cell_type": "code",
   "execution_count": 24,
   "metadata": {},
   "outputs": [
    {
     "name": "stdout",
     "output_type": "stream",
     "text": [
      "{'jim': 7, 'and': 0, 'by': 2, 'the': 8, 'bus': 1, 'was': 9, 'flight': 4, 'full': 5, 'is': 6, 'expensive': 3}\n"
     ]
    }
   ],
   "source": [
    "print(cv.vocabulary_) #assigns numbers to the different features"
   ]
  },
  {
   "cell_type": "code",
   "execution_count": 25,
   "metadata": {},
   "outputs": [
    {
     "name": "stdout",
     "output_type": "stream",
     "text": [
      "[[1 1 1 0 0 0 0 1 1 0]\n",
      " [0 0 0 0 0 0 0 0 1 1]\n",
      " [0 0 1 1 2 1 1 0 1 1]]\n"
     ]
    }
   ],
   "source": [
    "print(B_O_W) #bag of words is not giving any prioriry to rarely occurring words or frequently occurring words.\n",
    "# whereas tf-idf model gives that importance."
   ]
  },
  {
   "cell_type": "code",
   "execution_count": null,
   "metadata": {},
   "outputs": [],
   "source": [
    "#BOW is generally used for document classification"
   ]
  },
  {
   "cell_type": "code",
   "execution_count": 26,
   "metadata": {},
   "outputs": [
    {
     "name": "stdout",
     "output_type": "stream",
     "text": [
      "{'jim': 7, 'and': 0, 'by': 2, 'the': 8, 'bus': 1, 'was': 9, 'flight': 4, 'full': 5, 'is': 6, 'expensive': 3}\n",
      "['and', 'bus', 'by', 'expensive', 'flight', 'full', 'is', 'jim', 'the', 'was']\n",
      "[[0.50461134 0.50461134 0.38376993 0.         0.         0.\n",
      "  0.         0.50461134 0.29803159 0.        ]\n",
      " [0.         0.         0.         0.         0.         0.\n",
      "  0.         0.         0.61335554 0.78980693]\n",
      " [0.         0.         0.2607719  0.34288371 0.68576742 0.34288371\n",
      "  0.34288371 0.         0.20251264 0.2607719 ]]\n"
     ]
    }
   ],
   "source": [
    "#TF-IDF Model = TF*IDF\n",
    "#TF-Term  Frequency of the word in the sentence/total no of words in the sentence\n",
    "#IDF-Inverse document frequency = log(total no of sentences/number of sentence containing that word)\n",
    "from sklearn.feature_extraction.text import TfidfVectorizer\n",
    "vectorizer = TfidfVectorizer(max_features=10)\n",
    "X = vectorizer.fit_transform(a).toarray()\n",
    "print(vectorizer.vocabulary_)\n",
    "print(vectorizer.get_feature_names())\n",
    "print(X)"
   ]
  },
  {
   "cell_type": "code",
   "execution_count": 27,
   "metadata": {},
   "outputs": [
    {
     "data": {
      "text/plain": [
       "array([0.50461134, 0.50461134, 0.38376993, 0.        , 0.        ,\n",
       "       0.        , 0.        , 0.50461134, 0.29803159, 0.        ])"
      ]
     },
     "execution_count": 27,
     "metadata": {},
     "output_type": "execute_result"
    }
   ],
   "source": [
    "X[0] #Jim and Pam travelled by the bus"
   ]
  },
  {
   "cell_type": "code",
   "execution_count": null,
   "metadata": {},
   "outputs": [],
   "source": [
    "#when tf-idf value is high, it implies that it is a less frequently occurring word and vice versa.\n",
    "# so in cases when rarely used words are more important to us, thats when we use tf-idf model."
   ]
  },
  {
   "cell_type": "code",
   "execution_count": null,
   "metadata": {},
   "outputs": [],
   "source": [
    "#tf-idf is generally used in movie review, product review because rarely used words are more important to us in these cases."
   ]
  }
 ],
 "metadata": {
  "kernelspec": {
   "display_name": "Python 3",
   "language": "python",
   "name": "python3"
  },
  "language_info": {
   "codemirror_mode": {
    "name": "ipython",
    "version": 3
   },
   "file_extension": ".py",
   "mimetype": "text/x-python",
   "name": "python",
   "nbconvert_exporter": "python",
   "pygments_lexer": "ipython3",
   "version": "3.7.6"
  }
 },
 "nbformat": 4,
 "nbformat_minor": 4
}
