{
 "cells": [
  {
   "cell_type": "markdown",
   "metadata": {},
   "source": [
    "# NLP EXP 6\n",
    "\n",
    "Ritvik Khandelwal\n",
    "\n",
    "60002180081\n",
    "\n",
    "TE EXTC II"
   ]
  },
  {
   "cell_type": "code",
   "execution_count": 1,
   "metadata": {},
   "outputs": [
    {
     "name": "stderr",
     "output_type": "stream",
     "text": [
      "C:\\Users\\User\\Anaconda3\\lib\\site-packages\\gensim\\similarities\\__init__.py:15: UserWarning: The gensim.similarities.levenshtein submodule is disabled, because the optional Levenshtein package <https://pypi.org/project/python-Levenshtein/> is unavailable. Install Levenhstein (e.g. `pip install python-Levenshtein`) to suppress this warning.\n",
      "  warnings.warn(msg)\n"
     ]
    }
   ],
   "source": [
    "from nltk.tokenize import word_tokenize\n",
    "from nltk.tokenize import sent_tokenize\n",
    "import gensim\n",
    "import numpy as np"
   ]
  },
  {
   "cell_type": "code",
   "execution_count": 2,
   "metadata": {},
   "outputs": [
    {
     "name": "stdout",
     "output_type": "stream",
     "text": [
      "base file reading\n",
      "no of statements:  3\n",
      "['Mars is the fourth planet in our solar system.', 'It is second-smallest planet in the Solar System after Mercury.', 'Saturn is yellow planet.']\n"
     ]
    }
   ],
   "source": [
    "#Base file processing\n",
    "print('base file reading')\n",
    "with open('E:/user backup/Desktop/CODING/IBM/NLP/Pracs/demofile.txt') as f:\n",
    "    tokens=sent_tokenize(f.read())\n",
    "print('no of statements: ',len(tokens))\n",
    "print(tokens)"
   ]
  },
  {
   "cell_type": "code",
   "execution_count": 3,
   "metadata": {},
   "outputs": [
    {
     "name": "stdout",
     "output_type": "stream",
     "text": [
      "Tokenized words: [['mars', 'is', 'the', 'fourth', 'planet', 'in', 'our', 'solar', 'system', '.'], ['it', 'is', 'second-smallest', 'planet', 'in', 'the', 'solar', 'system', 'after', 'mercury', '.'], ['saturn', 'is', 'yellow', 'planet', '.']]\n"
     ]
    }
   ],
   "source": [
    "#tokenization\n",
    "gen_docs=[[w.lower() for w in word_tokenize(text)] for text in tokens]\n",
    "print('Tokenized words:',gen_docs)"
   ]
  },
  {
   "cell_type": "code",
   "execution_count": 4,
   "metadata": {},
   "outputs": [
    {
     "data": {
      "text/plain": [
       "{'computer': 0, 'humans': 1, 'interface': 2}"
      ]
     },
     "execution_count": 4,
     "metadata": {},
     "output_type": "execute_result"
    }
   ],
   "source": [
    "from gensim.corpora import Dictionary\n",
    "texts=[['humans','interface','computer']]\n",
    "dic=Dictionary(texts)\n",
    "dic.token2id"
   ]
  },
  {
   "cell_type": "code",
   "execution_count": 5,
   "metadata": {},
   "outputs": [
    {
     "name": "stdout",
     "output_type": "stream",
     "text": [
      "tokens in library {'.': 0, 'fourth': 1, 'in': 2, 'is': 3, 'mars': 4, 'our': 5, 'planet': 6, 'solar': 7, 'system': 8, 'the': 9, 'after': 10, 'it': 11, 'mercury': 12, 'second-smallest': 13, 'saturn': 14, 'yellow': 15}\n"
     ]
    }
   ],
   "source": [
    "#creation of Dictionary\n",
    "dictionary=gensim.corpora.Dictionary(gen_docs)\n",
    "print('tokens in library',dictionary.token2id)\n",
    "#printing distinct words only"
   ]
  },
  {
   "cell_type": "code",
   "execution_count": 6,
   "metadata": {},
   "outputs": [
    {
     "name": "stdout",
     "output_type": "stream",
     "text": [
      "corpus [[(0, 1), (1, 1), (2, 1), (3, 1), (4, 1), (5, 1), (6, 1), (7, 1), (8, 1), (9, 1)], [(0, 1), (2, 1), (3, 1), (6, 1), (7, 1), (8, 1), (9, 1), (10, 1), (11, 1), (12, 1), (13, 1)], [(0, 1), (3, 1), (6, 1), (14, 1), (15, 1)]]\n",
      "3\n"
     ]
    },
    {
     "data": {
      "text/plain": [
       "list"
      ]
     },
     "execution_count": 6,
     "metadata": {},
     "output_type": "execute_result"
    }
   ],
   "source": [
    "#creation of corpus. corpus is basically database creation\n",
    "corpus=[dictionary.doc2bow(i) for i in gen_docs]\n",
    "print(\"corpus\",corpus)\n",
    "print(len(corpus))\n",
    "type(corpus)\n",
    "#converting dictionary to bag of words model and then converting it into a corpus"
   ]
  },
  {
   "cell_type": "code",
   "execution_count": 7,
   "metadata": {},
   "outputs": [
    {
     "name": "stdout",
     "output_type": "stream",
     "text": [
      "TF-IDF\n",
      "<gensim.interfaces.TransformedCorpus object at 0x00000040497FD348>\n",
      "[['fourth', 0.53], ['in', 0.2], ['mars', 0.53], ['our', 0.53], ['solar', 0.2], ['system', 0.2], ['the', 0.2]]\n",
      "[['in', 0.17], ['solar', 0.17], ['system', 0.17], ['the', 0.17], ['after', 0.47], ['it', 0.47], ['mercury', 0.47], ['second-smallest', 0.47]]\n",
      "[['saturn', 0.71], ['yellow', 0.71]]\n"
     ]
    }
   ],
   "source": [
    "#cal of freq\n",
    "print(\"TF-IDF\")\n",
    "tf_idf=gensim.models.TfidfModel(corpus)\n",
    "print(tf_idf[corpus])\n",
    "for doc in tf_idf[corpus]:\n",
    "    print([[dictionary[id],np.around(freq,decimals=2)] for id,freq in doc])"
   ]
  },
  {
   "cell_type": "code",
   "execution_count": 8,
   "metadata": {},
   "outputs": [
    {
     "name": "stdout",
     "output_type": "stream",
     "text": [
      "16\n",
      "Similarity index with 3 documents in 0 shards (stored under )\n"
     ]
    }
   ],
   "source": [
    "#calc similarity measure\n",
    "print(len(dictionary))\n",
    "sims=gensim.similarities.Similarity('',tf_idf[corpus],num_features=len(dictionary))\n",
    "print((sims))"
   ]
  },
  {
   "cell_type": "code",
   "execution_count": 9,
   "metadata": {},
   "outputs": [
    {
     "name": "stdout",
     "output_type": "stream",
     "text": [
      "np of documents 1\n",
      "['Saturn is the sixth planet from the Sun.']\n",
      "[(0, 1), (3, 1), (6, 1), (9, 2), (14, 1)]\n"
     ]
    }
   ],
   "source": [
    "#processing query file\n",
    "with open('E:/user backup/Desktop/CODING/IBM/NLP/Pracs/demofile2.txt') as f:\n",
    "    tokens1=sent_tokenize(f.read())\n",
    "    print('np of documents',len(tokens1))\n",
    "    print(tokens1)\n",
    "for line in tokens1:\n",
    "    query_doc=[w.lower() for w in word_tokenize(line)]\n",
    "    query_doc_bow=dictionary.doc2bow(query_doc)\n",
    "print(query_doc_bow)"
   ]
  },
  {
   "cell_type": "code",
   "execution_count": 10,
   "metadata": {},
   "outputs": [
    {
     "name": "stdout",
     "output_type": "stream",
     "text": [
      "comparing result [0.11641413 0.10281226 0.56890744]\n"
     ]
    }
   ],
   "source": [
    "query_doc_tf_idf=tf_idf[query_doc_bow]\n",
    "#print(query_tf_idf)\n",
    "print('comparing result',sims[query_doc_tf_idf])"
   ]
  },
  {
   "cell_type": "code",
   "execution_count": 11,
   "metadata": {},
   "outputs": [
    {
     "name": "stdout",
     "output_type": "stream",
     "text": [
      "Sum of similarity 0.78813386\n"
     ]
    }
   ],
   "source": [
    "#cal total similarity\n",
    "sum_of_sims=(np.sum(sims[query_doc_tf_idf],dtype=np.float32))\n",
    "print('Sum of similarity',sum_of_sims)"
   ]
  },
  {
   "cell_type": "code",
   "execution_count": 12,
   "metadata": {},
   "outputs": [
    {
     "name": "stdout",
     "output_type": "stream",
     "text": [
      "Average sim float: {0.2627112865447998}\n",
      "Average sim per: {26.27112865447998}\n",
      "Average sim roundoff per: {26}\n"
     ]
    }
   ],
   "source": [
    "#calc similarity values\n",
    "per_of_sim=round(float((sum_of_sims/len(tokens))*100))\n",
    "print('Average sim float:',{(float(sum_of_sims/len(tokens)))})\n",
    "print('Average sim per:',{(float(sum_of_sims/len(tokens))*100)})\n",
    "print('Average sim roundoff per:',{per_of_sim})"
   ]
  },
  {
   "cell_type": "code",
   "execution_count": null,
   "metadata": {},
   "outputs": [],
   "source": []
  }
 ],
 "metadata": {
  "kernelspec": {
   "display_name": "Python 3",
   "language": "python",
   "name": "python3"
  },
  "language_info": {
   "codemirror_mode": {
    "name": "ipython",
    "version": 3
   },
   "file_extension": ".py",
   "mimetype": "text/x-python",
   "name": "python",
   "nbconvert_exporter": "python",
   "pygments_lexer": "ipython3",
   "version": "3.7.6"
  }
 },
 "nbformat": 4,
 "nbformat_minor": 2
}
